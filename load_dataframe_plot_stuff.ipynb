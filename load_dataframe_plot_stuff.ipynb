{
 "cells": [
  {
   "cell_type": "code",
   "execution_count": null,
   "id": "dd219541",
   "metadata": {},
   "outputs": [
    {
     "name": "stderr",
     "output_type": "stream",
     "text": [
      "/var/folders/3v/4tk_yxpd7sg4nwklwl0nmtj00000gp/T/ipykernel_84205/3646492378.py:39: FutureWarning: The default of observed=False is deprecated and will be changed to True in a future version of pandas. Pass observed=False to retain current behavior or observed=True to adopt the future default and silence this warning.\n",
      "  df[df['Set'] == 'SetBase']\n",
      "/var/folders/3v/4tk_yxpd7sg4nwklwl0nmtj00000gp/T/ipykernel_84205/3646492378.py:53: FutureWarning: The default of observed=False is deprecated and will be changed to True in a future version of pandas. Pass observed=False to retain current behavior or observed=True to adopt the future default and silence this warning.\n",
      "  df[df['Set'] == 'SetBase']\n",
      "/var/folders/3v/4tk_yxpd7sg4nwklwl0nmtj00000gp/T/ipykernel_84205/3646492378.py:68: FutureWarning: The default of observed=False is deprecated and will be changed to True in a future version of pandas. Pass observed=False to retain current behavior or observed=True to adopt the future default and silence this warning.\n",
      "  winners_per_track = df.loc[df.groupby('Track')['Seconds'].idxmin()].copy()\n",
      "/var/folders/3v/4tk_yxpd7sg4nwklwl0nmtj00000gp/T/ipykernel_84205/3646492378.py:75: FutureWarning: The default of observed=False is deprecated and will be changed to True in a future version of pandas. Pass observed=False to retain current behavior or observed=True to adopt the future default and silence this warning.\n",
      "  fastest_char_per_player_track = df.loc[df.groupby(['Player', 'Track'])['Seconds'].idxmin()].copy()\n"
     ]
    }
   ],
   "source": [
    "import pandas as pd\n",
    "import numpy as np\n",
    "import seaborn as sns\n",
    "import matplotlib.pyplot as plt\n",
    "\n",
    "df = pd.read_csv(\"~/Desktop/mario_kart.csv\")\n",
    "\n",
    "\n"
   ]
  }
 ],
 "metadata": {
  "kernelspec": {
   "display_name": "imatools",
   "language": "python",
   "name": "python3"
  },
  "language_info": {
   "codemirror_mode": {
    "name": "ipython",
    "version": 3
   },
   "file_extension": ".py",
   "mimetype": "text/x-python",
   "name": "python",
   "nbconvert_exporter": "python",
   "pygments_lexer": "ipython3",
   "version": "3.9.19"
  }
 },
 "nbformat": 4,
 "nbformat_minor": 5
}
